{
  "nbformat": 4,
  "nbformat_minor": 0,
  "metadata": {
    "colab": {
      "provenance": []
    },
    "kernelspec": {
      "name": "python3",
      "display_name": "Python 3"
    },
    "language_info": {
      "name": "python"
    }
  },
  "cells": [
    {
      "cell_type": "code",
      "execution_count": 1,
      "metadata": {
        "id": "vjuWh7oIIjCH"
      },
      "outputs": [],
      "source": [
        "neighbours = {\n",
        "  'S': ['A','B'],\n",
        "  'A': ['C','D','S'],\n",
        "  'B': ['D','G','S'],\n",
        "  'C': ['A','B','G','S'],\n",
        "  'D': ['A','B'],\n",
        "  'G': ['A','B','C','D']\n",
        "}\n",
        "\n",
        "S = 'S'\n",
        "G = 'G'"
      ]
    },
    {
      "cell_type": "code",
      "source": [
        "class DoublyLinkedList:\n",
        "    _items = []\n",
        "    def __init__(self, items=None):\n",
        "        if items is None:\n",
        "            items = []\n",
        "        self._items = items\n",
        "\n",
        "    def is_empty(self):\n",
        "        return len(self._items) == 0\n",
        "\n",
        "    def length(self):\n",
        "        return len(self._items)\n",
        "\n",
        "    def head(self):\n",
        "        if self.is_empty():\n",
        "            return None\n",
        "        return self._items[0]\n",
        "    \n",
        "    def tail(self):\n",
        "        if self.is_empty():\n",
        "            return None\n",
        "        return DoublyLinkedList(self._items[1:])\n",
        "\n",
        "    def add_to_end(self, value):\n",
        "        self._items.append(value)\n",
        "\n",
        "    def add_to_start(self, value):\n",
        "        self._items.insert(0, value)\n",
        "\n",
        "    def remove(self, value):\n",
        "        self._items.remove(value)\n",
        "\n",
        "    def __add__(self, other):\n",
        "        result = DoublyLinkedList()\n",
        "        result._items = self._items + other._items\n",
        "        return result\n",
        "\n",
        "    def __sub__(self, other):\n",
        "        result = DoublyLinkedList()\n",
        "        for item in self._items:\n",
        "            if item not in other._items:\n",
        "                result.add_to_end(item)\n",
        "        return result\n",
        "\n",
        "    def __contains__(self, value):\n",
        "        return any(x[0] == value for x in self._items)\n",
        "\n",
        "    def __str__(self):\n",
        "        return str(self._items)"
      ],
      "metadata": {
        "id": "j5pN3xOmR5a9"
      },
      "execution_count": 2,
      "outputs": []
    },
    {
      "cell_type": "code",
      "source": [
        "def MoveGen(node):\n",
        "  return DoublyLinkedList(neighbours[node])"
      ],
      "metadata": {
        "id": "luFXar43J4Cp"
      },
      "execution_count": 3,
      "outputs": []
    },
    {
      "cell_type": "code",
      "source": [],
      "metadata": {
        "id": "aUiTt5rb0d4R"
      },
      "execution_count": 3,
      "outputs": []
    },
    {
      "cell_type": "markdown",
      "source": [
        "# Simple Search 1"
      ],
      "metadata": {
        "id": "wwj3Pd2fM0ss"
      }
    },
    {
      "cell_type": "code",
      "source": [
        "def SimpleSearch1(S, G):\n",
        "  open = DoublyLinkedList([S])\n",
        "  while not open.is_empty():\n",
        "    print(f\"OPEN: {open}\")\n",
        "    N = open.head()\n",
        "    open.remove(N)\n",
        "    print(f\"------------\")\n",
        "    if N == G:\n",
        "      return N\n",
        "    else:\n",
        "      open = open + MoveGen(N)\n",
        "  \n",
        "  return None"
      ],
      "metadata": {
        "id": "cw5OobxqJ5eh"
      },
      "execution_count": 4,
      "outputs": []
    },
    {
      "cell_type": "code",
      "source": [
        "SimpleSearch1(S, G)"
      ],
      "metadata": {
        "colab": {
          "base_uri": "https://localhost:8080/",
          "height": 313
        },
        "id": "2l7vw8wzMsQU",
        "outputId": "5fa99235-2531-4c56-b440-51ad230685cb"
      },
      "execution_count": 5,
      "outputs": [
        {
          "output_type": "stream",
          "name": "stdout",
          "text": [
            "OPEN: ['S']\n",
            "------------\n",
            "OPEN: ['A', 'B']\n",
            "------------\n",
            "OPEN: ['B', 'C', 'D', 'S']\n",
            "------------\n",
            "OPEN: ['C', 'D', 'S', 'D', 'G', 'S']\n",
            "------------\n",
            "OPEN: ['D', 'S', 'D', 'G', 'S', 'A', 'B', 'G', 'S']\n",
            "------------\n",
            "OPEN: ['S', 'D', 'G', 'S', 'A', 'B', 'G', 'S', 'A', 'B']\n",
            "------------\n",
            "OPEN: ['D', 'G', 'S', 'A', 'B', 'G', 'S', 'A', 'B', 'A', 'B']\n",
            "------------\n",
            "OPEN: ['G', 'S', 'A', 'B', 'G', 'S', 'A', 'B', 'A', 'B', 'A', 'B']\n",
            "------------\n"
          ]
        },
        {
          "output_type": "execute_result",
          "data": {
            "text/plain": [
              "'G'"
            ],
            "application/vnd.google.colaboratory.intrinsic+json": {
              "type": "string"
            }
          },
          "metadata": {},
          "execution_count": 5
        }
      ]
    },
    {
      "cell_type": "markdown",
      "source": [
        "# Simple Search 2"
      ],
      "metadata": {
        "id": "oiyNbevEM-0o"
      }
    },
    {
      "cell_type": "code",
      "source": [
        "def SimpleSearch2(S, G):\n",
        "  open = DoublyLinkedList([S])\n",
        "  closed = DoublyLinkedList([])\n",
        "  while not open.is_empty():\n",
        "    print(f\"OPEN: \\t{open}\")\n",
        "    print(f\"CLOSED: {closed}\")\n",
        "    N = open.head()\n",
        "    open.remove(N)\n",
        "    closed.add_to_end(N)\n",
        "    print(f\"------------\")\n",
        "    if N == G:\n",
        "      return N\n",
        "    else:\n",
        "      open = open + (MoveGen(N) - closed)\n",
        "  \n",
        "  return None"
      ],
      "metadata": {
        "id": "StFlNuy_NCm1"
      },
      "execution_count": 6,
      "outputs": []
    },
    {
      "cell_type": "code",
      "source": [
        "SimpleSearch2(S, G)"
      ],
      "metadata": {
        "colab": {
          "base_uri": "https://localhost:8080/",
          "height": 400
        },
        "id": "3CfX0IEEOh-B",
        "outputId": "45c53b15-923b-42fd-bd6c-d0b55144240d"
      },
      "execution_count": 7,
      "outputs": [
        {
          "output_type": "stream",
          "name": "stdout",
          "text": [
            "OPEN: \t['S']\n",
            "CLOSED: []\n",
            "------------\n",
            "OPEN: \t['A', 'B']\n",
            "CLOSED: ['S']\n",
            "------------\n",
            "OPEN: \t['B', 'C', 'D']\n",
            "CLOSED: ['S', 'A']\n",
            "------------\n",
            "OPEN: \t['C', 'D', 'D', 'G']\n",
            "CLOSED: ['S', 'A', 'B']\n",
            "------------\n",
            "OPEN: \t['D', 'D', 'G', 'G']\n",
            "CLOSED: ['S', 'A', 'B', 'C']\n",
            "------------\n",
            "OPEN: \t['D', 'G', 'G']\n",
            "CLOSED: ['S', 'A', 'B', 'C', 'D']\n",
            "------------\n",
            "OPEN: \t['G', 'G']\n",
            "CLOSED: ['S', 'A', 'B', 'C', 'D', 'D']\n",
            "------------\n"
          ]
        },
        {
          "output_type": "execute_result",
          "data": {
            "text/plain": [
              "'G'"
            ],
            "application/vnd.google.colaboratory.intrinsic+json": {
              "type": "string"
            }
          },
          "metadata": {},
          "execution_count": 7
        }
      ]
    },
    {
      "cell_type": "markdown",
      "source": [
        "# DFS"
      ],
      "metadata": {
        "id": "xYASCl1LOvvl"
      }
    },
    {
      "cell_type": "code",
      "source": [
        "def MakePairs(nodeList, parent):\n",
        "  if nodeList.is_empty():\n",
        "    return DoublyLinkedList([])\n",
        "  else:\n",
        "    return DoublyLinkedList([(nodeList.head(), parent)]) + MakePairs(nodeList.tail(), parent)\n",
        "\n",
        "def RemoveSeen(nodeList, open, closed):\n",
        "  if nodeList.is_empty():\n",
        "    return DoublyLinkedList([])\n",
        "  else:\n",
        "    N = nodeList.head()\n",
        "    if N in open or N in closed:\n",
        "      return RemoveSeen(nodeList.tail(), open, closed)\n",
        "    else:\n",
        "      return DoublyLinkedList([N]) + RemoveSeen(nodeList.tail(), open, closed)\n",
        "\n",
        "def SkipTo(parent, nodePairs):\n",
        "  if parent == nodePairs.head()[0]:\n",
        "    return nodePairs\n",
        "  else:\n",
        "    return SkipTo(parent, nodePairs.tail())\n",
        "\n",
        "def ReconstructPath(nodePair, closed):\n",
        "  node, parent = nodePair\n",
        "  path = DoublyLinkedList([node])\n",
        "  while parent is not None:\n",
        "    path.add_to_start(parent)\n",
        "    closed = SkipTo(parent, closed)\n",
        "    _, parent = closed.head()\n",
        "  return path"
      ],
      "metadata": {
        "id": "tUqPRErsQ4n7"
      },
      "execution_count": 8,
      "outputs": []
    },
    {
      "cell_type": "code",
      "source": [
        "def DFS(S, G):\n",
        "  open = DoublyLinkedList([(S, None)])\n",
        "  closed = DoublyLinkedList([])\n",
        "  while not open.is_empty():\n",
        "    print(f\"OPEN: \\t{open}\")\n",
        "    print(f\"CLOSED: {closed}\")\n",
        "    nodePair = open.head()\n",
        "    N, _ = nodePair\n",
        "    print(f\"------------\")\n",
        "    if N == G:\n",
        "      return ReconstructPath(nodePair, closed)\n",
        "    else:\n",
        "      closed.add_to_start(nodePair)\n",
        "      neighbours = MoveGen(N)\n",
        "      newNodes = RemoveSeen(neighbours, open, closed)\n",
        "      newPairs = MakePairs(newNodes, N)\n",
        "      open = newPairs + open.tail()\n",
        "  return DoublyLinkedList([])\n",
        "\n",
        "print(DFS(S, G))"
      ],
      "metadata": {
        "colab": {
          "base_uri": "https://localhost:8080/"
        },
        "id": "NpJgiNQJOvWJ",
        "outputId": "524e5177-9280-40c2-ade7-70bce07ba08b"
      },
      "execution_count": 9,
      "outputs": [
        {
          "output_type": "stream",
          "name": "stdout",
          "text": [
            "OPEN: \t[('S', None)]\n",
            "CLOSED: []\n",
            "------------\n",
            "OPEN: \t[('A', 'S'), ('B', 'S')]\n",
            "CLOSED: [('S', None)]\n",
            "------------\n",
            "OPEN: \t[('C', 'A'), ('D', 'A'), ('B', 'S')]\n",
            "CLOSED: [('A', 'S'), ('S', None)]\n",
            "------------\n",
            "OPEN: \t[('G', 'C'), ('D', 'A'), ('B', 'S')]\n",
            "CLOSED: [('C', 'A'), ('A', 'S'), ('S', None)]\n",
            "------------\n",
            "['S', 'A', 'C', 'G']\n"
          ]
        }
      ]
    },
    {
      "cell_type": "markdown",
      "source": [
        "# BFS"
      ],
      "metadata": {
        "id": "mjsPdvaW2B0a"
      }
    },
    {
      "cell_type": "code",
      "source": [
        "def BFS(S, G):\n",
        "  open = DoublyLinkedList([(S, None)])\n",
        "  closed = DoublyLinkedList([])\n",
        "  while not open.is_empty():\n",
        "    print(f\"OPEN: \\t{open}\")\n",
        "    print(f\"CLOSED: {closed}\")\n",
        "    nodePair = open.head()\n",
        "    N, _ = nodePair\n",
        "    print(f\"------------\")\n",
        "    if N == G:\n",
        "      return ReconstructPath(nodePair, closed)\n",
        "    else:\n",
        "      closed.add_to_start(nodePair)\n",
        "      neighbours = MoveGen(N)\n",
        "      newNodes = RemoveSeen(neighbours, open, closed)\n",
        "      newPairs = MakePairs(newNodes, N)\n",
        "      open = open.tail() + newPairs\n",
        "  return DoublyLinkedList([])\n",
        "\n",
        "print(BFS(S, G))"
      ],
      "metadata": {
        "colab": {
          "base_uri": "https://localhost:8080/"
        },
        "id": "YVX6veFS2DIp",
        "outputId": "1762f2a1-852f-4b43-974e-558bbeea2831"
      },
      "execution_count": 10,
      "outputs": [
        {
          "output_type": "stream",
          "name": "stdout",
          "text": [
            "OPEN: \t[('S', None)]\n",
            "CLOSED: []\n",
            "------------\n",
            "OPEN: \t[('A', 'S'), ('B', 'S')]\n",
            "CLOSED: [('S', None)]\n",
            "------------\n",
            "OPEN: \t[('B', 'S'), ('C', 'A'), ('D', 'A')]\n",
            "CLOSED: [('A', 'S'), ('S', None)]\n",
            "------------\n",
            "OPEN: \t[('C', 'A'), ('D', 'A'), ('G', 'B')]\n",
            "CLOSED: [('B', 'S'), ('A', 'S'), ('S', None)]\n",
            "------------\n",
            "OPEN: \t[('D', 'A'), ('G', 'B')]\n",
            "CLOSED: [('C', 'A'), ('B', 'S'), ('A', 'S'), ('S', None)]\n",
            "------------\n",
            "OPEN: \t[('G', 'B')]\n",
            "CLOSED: [('D', 'A'), ('C', 'A'), ('B', 'S'), ('A', 'S'), ('S', None)]\n",
            "------------\n",
            "['S', 'B', 'G']\n"
          ]
        }
      ]
    },
    {
      "cell_type": "markdown",
      "source": [
        "# DFID-N"
      ],
      "metadata": {
        "id": "HOPEsY263BmB"
      }
    },
    {
      "cell_type": "code",
      "source": [
        "def MakePairs(nodeList, parent, depth):\n",
        "  if nodeList.is_empty():\n",
        "    return DoublyLinkedList([])\n",
        "  else:\n",
        "    return DoublyLinkedList([(nodeList.head(), parent, depth)]) + MakePairs(nodeList.tail(), parent, depth)\n",
        "\n",
        "def RemoveSeen(nodeList, open, closed):\n",
        "  if nodeList.is_empty():\n",
        "    return DoublyLinkedList([])\n",
        "  else:\n",
        "    N = nodeList.head()\n",
        "    if N in open or N in closed:\n",
        "      return RemoveSeen(nodeList.tail(), open, closed)\n",
        "    else:\n",
        "      return DoublyLinkedList([N]) + RemoveSeen(nodeList.tail(), open, closed)\n",
        "\n",
        "def SkipTo(parent, nodePairs, depth):\n",
        "  if parent == nodePairs.head()[0] and depth == nodePairs.head()[2]:\n",
        "    return nodePairs\n",
        "  else:\n",
        "    return SkipTo(parent, nodePairs.tail(), depth)\n",
        "\n",
        "def ReconstructPath(nodePair, closed):\n",
        "  node, parent, depth = nodePair\n",
        "  path = DoublyLinkedList([node])\n",
        "  while parent is not None:\n",
        "    path.add_to_start(parent)\n",
        "    closed = SkipTo(parent, closed, depth - 1)\n",
        "    _, parent, depth = closed.head()\n",
        "  return path"
      ],
      "metadata": {
        "id": "PhX7KXtX6iAG"
      },
      "execution_count": 11,
      "outputs": []
    },
    {
      "cell_type": "code",
      "source": [
        "def DB_DFS_N(S, G, depth_bound):\n",
        "  count = 0\n",
        "  open = DoublyLinkedList([(S, None, 0)])\n",
        "  closed = DoublyLinkedList([])\n",
        "  while not open.is_empty():\n",
        "    print(f\"OPEN: \\t{open}\")\n",
        "    print(f\"CLOSED: {closed}\")\n",
        "    nodePair = open.head()\n",
        "    N, _, depth = nodePair\n",
        "    \n",
        "    if N == G:\n",
        "      return (count, ReconstructPath(nodePair, closed))\n",
        "    else:\n",
        "      print(f\"------------\")\n",
        "      closed.add_to_start(nodePair)\n",
        "\n",
        "      if depth < depth_bound:\n",
        "        neighbours = MoveGen(N)\n",
        "        newNodes = RemoveSeen(neighbours, open, closed)\n",
        "        newPairs = MakePairs(newNodes, N, depth+1)\n",
        "        open = newPairs + open.tail()\n",
        "        count = count + newPairs.length()\n",
        "      else:\n",
        "        open = open.tail()\n",
        "  return (count, DoublyLinkedList([]))\n",
        "\n",
        "def DFID_N(S, G):\n",
        "  count = -1\n",
        "  path = DoublyLinkedList([])\n",
        "  depth_bound = 0\n",
        "\n",
        "  while True:\n",
        "    previous_count = count\n",
        "    print(f\"\\n==========Depth {depth_bound}============\")\n",
        "    count, path = DB_DFS_N(S, G, depth_bound)\n",
        "    depth_bound += 1\n",
        "    if previous_count == count:\n",
        "      break\n",
        "\n",
        "  return path\n",
        "\n",
        "print(DFID_N(S, G))"
      ],
      "metadata": {
        "colab": {
          "base_uri": "https://localhost:8080/"
        },
        "id": "wGeqUMDS3DEy",
        "outputId": "0766f7a4-5255-473c-f625-da8f11940547"
      },
      "execution_count": 14,
      "outputs": [
        {
          "output_type": "stream",
          "name": "stdout",
          "text": [
            "\n",
            "==========Depth 0============\n",
            "OPEN: \t[('S', None, 0)]\n",
            "CLOSED: []\n",
            "------------\n",
            "\n",
            "==========Depth 1============\n",
            "OPEN: \t[('S', None, 0)]\n",
            "CLOSED: []\n",
            "------------\n",
            "OPEN: \t[('A', 'S', 1), ('B', 'S', 1)]\n",
            "CLOSED: [('S', None, 0)]\n",
            "------------\n",
            "OPEN: \t[('B', 'S', 1)]\n",
            "CLOSED: [('A', 'S', 1), ('S', None, 0)]\n",
            "------------\n",
            "\n",
            "==========Depth 2============\n",
            "OPEN: \t[('S', None, 0)]\n",
            "CLOSED: []\n",
            "------------\n",
            "OPEN: \t[('A', 'S', 1), ('B', 'S', 1)]\n",
            "CLOSED: [('S', None, 0)]\n",
            "------------\n",
            "OPEN: \t[('C', 'A', 2), ('D', 'A', 2), ('B', 'S', 1)]\n",
            "CLOSED: [('A', 'S', 1), ('S', None, 0)]\n",
            "------------\n",
            "OPEN: \t[('D', 'A', 2), ('B', 'S', 1)]\n",
            "CLOSED: [('C', 'A', 2), ('A', 'S', 1), ('S', None, 0)]\n",
            "------------\n",
            "OPEN: \t[('B', 'S', 1)]\n",
            "CLOSED: [('D', 'A', 2), ('C', 'A', 2), ('A', 'S', 1), ('S', None, 0)]\n",
            "------------\n",
            "OPEN: \t[('G', 'B', 2)]\n",
            "CLOSED: [('B', 'S', 1), ('D', 'A', 2), ('C', 'A', 2), ('A', 'S', 1), ('S', None, 0)]\n",
            "\n",
            "==========Depth 3============\n",
            "OPEN: \t[('S', None, 0)]\n",
            "CLOSED: []\n",
            "------------\n",
            "OPEN: \t[('A', 'S', 1), ('B', 'S', 1)]\n",
            "CLOSED: [('S', None, 0)]\n",
            "------------\n",
            "OPEN: \t[('C', 'A', 2), ('D', 'A', 2), ('B', 'S', 1)]\n",
            "CLOSED: [('A', 'S', 1), ('S', None, 0)]\n",
            "------------\n",
            "OPEN: \t[('G', 'C', 3), ('D', 'A', 2), ('B', 'S', 1)]\n",
            "CLOSED: [('C', 'A', 2), ('A', 'S', 1), ('S', None, 0)]\n",
            "['S', 'A', 'C', 'G']\n"
          ]
        }
      ]
    },
    {
      "cell_type": "markdown",
      "source": [
        "# DFID-C"
      ],
      "metadata": {
        "id": "LKcxR2DkH1AG"
      }
    },
    {
      "cell_type": "markdown",
      "source": [
        "## This Algorithm does not work with graph having cycles"
      ],
      "metadata": {
        "id": "L7uuijzHphrr"
      }
    },
    {
      "cell_type": "code",
      "source": [
        "def DB_DFS_C(S, G, depth_bound):\n",
        "  count = 0\n",
        "  open = DoublyLinkedList([(S, None, 0)])\n",
        "  closed = DoublyLinkedList([])\n",
        "  while not open.is_empty():\n",
        "    print(f\"OPEN: \\t{open}\")\n",
        "    print(f\"CLOSED: {closed}\")\n",
        "    nodePair = open.head()\n",
        "    N, _, depth = nodePair\n",
        "    \n",
        "    if N == G:\n",
        "      return (count, ReconstructPath(nodePair, closed))\n",
        "    else:\n",
        "      print(f\"------------\")\n",
        "      closed.add_to_start(nodePair)\n",
        "\n",
        "      if depth < depth_bound:\n",
        "        neighbours = MoveGen(N)\n",
        "        newNodes = RemoveSeen(neighbours, open, DoublyLinkedList([]))\n",
        "        newPairs = MakePairs(newNodes, N, depth+1)\n",
        "        open = newPairs + open.tail()\n",
        "        count = count + newPairs.length()\n",
        "      else:\n",
        "        open = open.tail()\n",
        "  return (count, DoublyLinkedList([]))\n",
        "\n",
        "def DFID_C(S, G):\n",
        "  count = -1\n",
        "  path = DoublyLinkedList([])\n",
        "  depth_bound = 0\n",
        "\n",
        "  while True:\n",
        "    previous_count = count\n",
        "    print(f\"==========Depth {depth_bound}============\")\n",
        "    count, path = DB_DFS_C(S, G, depth_bound)\n",
        "    depth_bound += 1\n",
        "    if previous_count == count:\n",
        "      if (path.is_empty()):\n",
        "        print(\"Empty path\")\n",
        "      if (previous_count == count):\n",
        "        print(\"count equal\")\n",
        "      break\n",
        "\n",
        "  return path\n",
        "\n",
        "# run it if the graph on top does not have cycles\n",
        "# print(DFID_C(S, G))"
      ],
      "metadata": {
        "id": "pyMsYLQiH4oW"
      },
      "execution_count": 13,
      "outputs": []
    }
  ]
}