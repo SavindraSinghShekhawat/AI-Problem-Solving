{
  "nbformat": 4,
  "nbformat_minor": 0,
  "metadata": {
    "colab": {
      "provenance": []
    },
    "kernelspec": {
      "name": "python3",
      "display_name": "Python 3"
    },
    "language_info": {
      "name": "python"
    }
  },
  "cells": [
    {
      "cell_type": "code",
      "execution_count": 36,
      "metadata": {
        "id": "vjuWh7oIIjCH"
      },
      "outputs": [],
      "source": [
        "neighbours = {\n",
        "  'S': ['A','B'],\n",
        "  'A': ['C','D','S'],\n",
        "  'B': ['D','G','S'],\n",
        "  'C': ['A','B','G','S'],\n",
        "  'D': ['A','B'],\n",
        "  'G': ['A','B','C','D']\n",
        "}\n",
        "\n",
        "S = 'S'\n",
        "G = 'G'"
      ]
    },
    {
      "cell_type": "code",
      "source": [
        "neighbours = {\n",
        "  'S': ['A','C'],\n",
        "  'A': ['B','C','S'],\n",
        "  'B': ['A','D','E'],\n",
        "  'C': ['A','D','S'],\n",
        "  'D': ['B','C', 'E', 'G'],\n",
        "  'E': ['B', 'D', 'G'],\n",
        "  'G': ['D', 'E']\n",
        "}\n",
        "\n",
        "S = 'S'\n",
        "G = 'G'"
      ],
      "metadata": {
        "id": "jBMjJzmA0NAt"
      },
      "execution_count": 37,
      "outputs": []
    },
    {
      "cell_type": "code",
      "source": [
        "class DoublyLinkedList:\n",
        "    _items = []\n",
        "    def __init__(self, items=None):\n",
        "        if items is None:\n",
        "            items = []\n",
        "        self._items = items\n",
        "\n",
        "    def is_empty(self):\n",
        "        return len(self._items) == 0\n",
        "\n",
        "    def length(self):\n",
        "        return len(self._items)\n",
        "\n",
        "    def head(self):\n",
        "        if self.is_empty():\n",
        "            return None\n",
        "        return self._items[0]\n",
        "    \n",
        "    def tail(self):\n",
        "        if self.is_empty():\n",
        "            return None\n",
        "        return DoublyLinkedList(self._items[1:])\n",
        "\n",
        "    def add_to_end(self, value):\n",
        "        self._items.append(value)\n",
        "\n",
        "    def add_to_start(self, value):\n",
        "        self._items.insert(0, value)\n",
        "\n",
        "    def remove(self, value):\n",
        "        self._items.remove(value)\n",
        "\n",
        "    def __add__(self, other):\n",
        "        result = DoublyLinkedList()\n",
        "        result._items = self._items + other._items\n",
        "        return result\n",
        "\n",
        "    def __sub__(self, other):\n",
        "        result = DoublyLinkedList()\n",
        "        for item in self._items:\n",
        "            if item not in other._items:\n",
        "                result.add_to_end(item)\n",
        "        return result\n",
        "\n",
        "    def __contains__(self, value):\n",
        "        return any(x[0] == value for x in self._items)\n",
        "\n",
        "    def __str__(self):\n",
        "        return str(self._items)"
      ],
      "metadata": {
        "id": "j5pN3xOmR5a9"
      },
      "execution_count": 38,
      "outputs": []
    },
    {
      "cell_type": "code",
      "source": [
        "def MoveGen(node):\n",
        "  return DoublyLinkedList(neighbours[node])"
      ],
      "metadata": {
        "id": "luFXar43J4Cp"
      },
      "execution_count": 39,
      "outputs": []
    },
    {
      "cell_type": "code",
      "source": [],
      "metadata": {
        "id": "aUiTt5rb0d4R"
      },
      "execution_count": 39,
      "outputs": []
    },
    {
      "cell_type": "markdown",
      "source": [
        "# Simple Search 1"
      ],
      "metadata": {
        "id": "wwj3Pd2fM0ss"
      }
    },
    {
      "cell_type": "code",
      "source": [
        "def SimpleSearch1(S, G):\n",
        "  open = DoublyLinkedList([S])\n",
        "  while not open.is_empty():\n",
        "    print(f\"OPEN: {open}\")\n",
        "    N = open.head()\n",
        "    open.remove(N)\n",
        "    print(f\"------------\")\n",
        "    if N == G:\n",
        "      return N\n",
        "    else:\n",
        "      open = open + MoveGen(N)\n",
        "  \n",
        "  return None"
      ],
      "metadata": {
        "id": "cw5OobxqJ5eh"
      },
      "execution_count": 40,
      "outputs": []
    },
    {
      "cell_type": "code",
      "source": [
        "SimpleSearch1(S, G)"
      ],
      "metadata": {
        "colab": {
          "base_uri": "https://localhost:8080/",
          "height": 889
        },
        "id": "2l7vw8wzMsQU",
        "outputId": "107f8e6d-6cda-4d9c-ebdf-ece354ec0e98"
      },
      "execution_count": 41,
      "outputs": [
        {
          "output_type": "stream",
          "name": "stdout",
          "text": [
            "OPEN: ['S']\n",
            "------------\n",
            "OPEN: ['A', 'C']\n",
            "------------\n",
            "OPEN: ['C', 'B', 'C', 'S']\n",
            "------------\n",
            "OPEN: ['B', 'C', 'S', 'A', 'D', 'S']\n",
            "------------\n",
            "OPEN: ['C', 'S', 'A', 'D', 'S', 'A', 'D', 'E']\n",
            "------------\n",
            "OPEN: ['S', 'A', 'D', 'S', 'A', 'D', 'E', 'A', 'D', 'S']\n",
            "------------\n",
            "OPEN: ['A', 'D', 'S', 'A', 'D', 'E', 'A', 'D', 'S', 'A', 'C']\n",
            "------------\n",
            "OPEN: ['D', 'S', 'A', 'D', 'E', 'A', 'D', 'S', 'A', 'C', 'B', 'C', 'S']\n",
            "------------\n",
            "OPEN: ['S', 'A', 'D', 'E', 'A', 'D', 'S', 'A', 'C', 'B', 'C', 'S', 'B', 'C', 'E', 'G']\n",
            "------------\n",
            "OPEN: ['A', 'D', 'E', 'A', 'D', 'S', 'A', 'C', 'B', 'C', 'S', 'B', 'C', 'E', 'G', 'A', 'C']\n",
            "------------\n",
            "OPEN: ['D', 'E', 'A', 'D', 'S', 'A', 'C', 'B', 'C', 'S', 'B', 'C', 'E', 'G', 'A', 'C', 'B', 'C', 'S']\n",
            "------------\n",
            "OPEN: ['E', 'A', 'D', 'S', 'A', 'C', 'B', 'C', 'S', 'B', 'C', 'E', 'G', 'A', 'C', 'B', 'C', 'S', 'B', 'C', 'E', 'G']\n",
            "------------\n",
            "OPEN: ['A', 'D', 'S', 'A', 'C', 'B', 'C', 'S', 'B', 'C', 'E', 'G', 'A', 'C', 'B', 'C', 'S', 'B', 'C', 'E', 'G', 'B', 'D', 'G']\n",
            "------------\n",
            "OPEN: ['D', 'S', 'A', 'C', 'B', 'C', 'S', 'B', 'C', 'E', 'G', 'A', 'C', 'B', 'C', 'S', 'B', 'C', 'E', 'G', 'B', 'D', 'G', 'B', 'C', 'S']\n",
            "------------\n",
            "OPEN: ['S', 'A', 'C', 'B', 'C', 'S', 'B', 'C', 'E', 'G', 'A', 'C', 'B', 'C', 'S', 'B', 'C', 'E', 'G', 'B', 'D', 'G', 'B', 'C', 'S', 'B', 'C', 'E', 'G']\n",
            "------------\n",
            "OPEN: ['A', 'C', 'B', 'C', 'S', 'B', 'C', 'E', 'G', 'A', 'C', 'B', 'C', 'S', 'B', 'C', 'E', 'G', 'B', 'D', 'G', 'B', 'C', 'S', 'B', 'C', 'E', 'G', 'A', 'C']\n",
            "------------\n",
            "OPEN: ['C', 'B', 'C', 'S', 'B', 'C', 'E', 'G', 'A', 'C', 'B', 'C', 'S', 'B', 'C', 'E', 'G', 'B', 'D', 'G', 'B', 'C', 'S', 'B', 'C', 'E', 'G', 'A', 'C', 'B', 'C', 'S']\n",
            "------------\n",
            "OPEN: ['B', 'C', 'S', 'B', 'C', 'E', 'G', 'A', 'C', 'B', 'C', 'S', 'B', 'C', 'E', 'G', 'B', 'D', 'G', 'B', 'C', 'S', 'B', 'C', 'E', 'G', 'A', 'C', 'B', 'C', 'S', 'A', 'D', 'S']\n",
            "------------\n",
            "OPEN: ['C', 'S', 'B', 'C', 'E', 'G', 'A', 'C', 'B', 'C', 'S', 'B', 'C', 'E', 'G', 'B', 'D', 'G', 'B', 'C', 'S', 'B', 'C', 'E', 'G', 'A', 'C', 'B', 'C', 'S', 'A', 'D', 'S', 'A', 'D', 'E']\n",
            "------------\n",
            "OPEN: ['S', 'B', 'C', 'E', 'G', 'A', 'C', 'B', 'C', 'S', 'B', 'C', 'E', 'G', 'B', 'D', 'G', 'B', 'C', 'S', 'B', 'C', 'E', 'G', 'A', 'C', 'B', 'C', 'S', 'A', 'D', 'S', 'A', 'D', 'E', 'A', 'D', 'S']\n",
            "------------\n",
            "OPEN: ['B', 'C', 'E', 'G', 'A', 'C', 'B', 'C', 'S', 'B', 'C', 'E', 'G', 'B', 'D', 'G', 'B', 'C', 'S', 'B', 'C', 'E', 'G', 'A', 'C', 'B', 'C', 'S', 'A', 'D', 'S', 'A', 'D', 'E', 'A', 'D', 'S', 'A', 'C']\n",
            "------------\n",
            "OPEN: ['C', 'E', 'G', 'A', 'C', 'B', 'C', 'S', 'B', 'C', 'E', 'G', 'B', 'D', 'G', 'B', 'C', 'S', 'B', 'C', 'E', 'G', 'A', 'C', 'B', 'C', 'S', 'A', 'D', 'S', 'A', 'D', 'E', 'A', 'D', 'S', 'A', 'C', 'A', 'D', 'E']\n",
            "------------\n",
            "OPEN: ['E', 'G', 'A', 'C', 'B', 'C', 'S', 'B', 'C', 'E', 'G', 'B', 'D', 'G', 'B', 'C', 'S', 'B', 'C', 'E', 'G', 'A', 'C', 'B', 'C', 'S', 'A', 'D', 'S', 'A', 'D', 'E', 'A', 'D', 'S', 'A', 'C', 'A', 'D', 'E', 'A', 'D', 'S']\n",
            "------------\n",
            "OPEN: ['G', 'A', 'C', 'B', 'C', 'S', 'B', 'C', 'E', 'G', 'B', 'D', 'G', 'B', 'C', 'S', 'B', 'C', 'E', 'G', 'A', 'C', 'B', 'C', 'S', 'A', 'D', 'S', 'A', 'D', 'E', 'A', 'D', 'S', 'A', 'C', 'A', 'D', 'E', 'A', 'D', 'S', 'B', 'D', 'G']\n",
            "------------\n"
          ]
        },
        {
          "output_type": "execute_result",
          "data": {
            "text/plain": [
              "'G'"
            ],
            "application/vnd.google.colaboratory.intrinsic+json": {
              "type": "string"
            }
          },
          "metadata": {},
          "execution_count": 41
        }
      ]
    },
    {
      "cell_type": "markdown",
      "source": [
        "# Simple Search 2"
      ],
      "metadata": {
        "id": "oiyNbevEM-0o"
      }
    },
    {
      "cell_type": "code",
      "source": [
        "def SimpleSearch2(S, G):\n",
        "  open = DoublyLinkedList([S])\n",
        "  closed = DoublyLinkedList([])\n",
        "  while not open.is_empty():\n",
        "    print(f\"OPEN: \\t{open}\")\n",
        "    print(f\"CLOSED: {closed}\")\n",
        "    N = open.head()\n",
        "    open.remove(N)\n",
        "    closed.add_to_end(N)\n",
        "    print(f\"------------\")\n",
        "    if N == G:\n",
        "      return N\n",
        "    else:\n",
        "      open = open + (MoveGen(N) - closed)\n",
        "  \n",
        "  return None"
      ],
      "metadata": {
        "id": "StFlNuy_NCm1"
      },
      "execution_count": 42,
      "outputs": []
    },
    {
      "cell_type": "code",
      "source": [
        "SimpleSearch2(S, G)"
      ],
      "metadata": {
        "colab": {
          "base_uri": "https://localhost:8080/",
          "height": 608
        },
        "id": "3CfX0IEEOh-B",
        "outputId": "c7e31c62-06ef-4ff2-8ac1-77f2254b2bea"
      },
      "execution_count": 43,
      "outputs": [
        {
          "output_type": "stream",
          "name": "stdout",
          "text": [
            "OPEN: \t['S']\n",
            "CLOSED: []\n",
            "------------\n",
            "OPEN: \t['A', 'C']\n",
            "CLOSED: ['S']\n",
            "------------\n",
            "OPEN: \t['C', 'B', 'C']\n",
            "CLOSED: ['S', 'A']\n",
            "------------\n",
            "OPEN: \t['B', 'C', 'D']\n",
            "CLOSED: ['S', 'A', 'C']\n",
            "------------\n",
            "OPEN: \t['C', 'D', 'D', 'E']\n",
            "CLOSED: ['S', 'A', 'C', 'B']\n",
            "------------\n",
            "OPEN: \t['D', 'D', 'E', 'D']\n",
            "CLOSED: ['S', 'A', 'C', 'B', 'C']\n",
            "------------\n",
            "OPEN: \t['D', 'E', 'D', 'E', 'G']\n",
            "CLOSED: ['S', 'A', 'C', 'B', 'C', 'D']\n",
            "------------\n",
            "OPEN: \t['E', 'D', 'E', 'G', 'E', 'G']\n",
            "CLOSED: ['S', 'A', 'C', 'B', 'C', 'D', 'D']\n",
            "------------\n",
            "OPEN: \t['D', 'E', 'G', 'E', 'G', 'G']\n",
            "CLOSED: ['S', 'A', 'C', 'B', 'C', 'D', 'D', 'E']\n",
            "------------\n",
            "OPEN: \t['E', 'G', 'E', 'G', 'G', 'G']\n",
            "CLOSED: ['S', 'A', 'C', 'B', 'C', 'D', 'D', 'E', 'D']\n",
            "------------\n",
            "OPEN: \t['G', 'E', 'G', 'G', 'G', 'G']\n",
            "CLOSED: ['S', 'A', 'C', 'B', 'C', 'D', 'D', 'E', 'D', 'E']\n",
            "------------\n"
          ]
        },
        {
          "output_type": "execute_result",
          "data": {
            "text/plain": [
              "'G'"
            ],
            "application/vnd.google.colaboratory.intrinsic+json": {
              "type": "string"
            }
          },
          "metadata": {},
          "execution_count": 43
        }
      ]
    },
    {
      "cell_type": "markdown",
      "source": [
        "# DFS"
      ],
      "metadata": {
        "id": "xYASCl1LOvvl"
      }
    },
    {
      "cell_type": "code",
      "source": [
        "def MakePairs(nodeList, parent):\n",
        "  if nodeList.is_empty():\n",
        "    return DoublyLinkedList([])\n",
        "  else:\n",
        "    return DoublyLinkedList([(nodeList.head(), parent)]) + MakePairs(nodeList.tail(), parent)\n",
        "\n",
        "def RemoveSeen(nodeList, open, closed):\n",
        "  if nodeList.is_empty():\n",
        "    return DoublyLinkedList([])\n",
        "  else:\n",
        "    N = nodeList.head()\n",
        "    if N in open or N in closed:\n",
        "      return RemoveSeen(nodeList.tail(), open, closed)\n",
        "    else:\n",
        "      return DoublyLinkedList([N]) + RemoveSeen(nodeList.tail(), open, closed)\n",
        "\n",
        "def SkipTo(parent, nodePairs):\n",
        "  if parent == nodePairs.head()[0]:\n",
        "    return nodePairs\n",
        "  else:\n",
        "    return SkipTo(parent, nodePairs.tail())\n",
        "\n",
        "def ReconstructPath(nodePair, closed):\n",
        "  node, parent = nodePair\n",
        "  path = DoublyLinkedList([node])\n",
        "  while parent is not None:\n",
        "    path.add_to_start(parent)\n",
        "    closed = SkipTo(parent, closed)\n",
        "    _, parent = closed.head()\n",
        "  return path"
      ],
      "metadata": {
        "id": "tUqPRErsQ4n7"
      },
      "execution_count": 44,
      "outputs": []
    },
    {
      "cell_type": "code",
      "source": [
        "def DFS(S, G):\n",
        "  open = DoublyLinkedList([(S, None)])\n",
        "  closed = DoublyLinkedList([])\n",
        "  while not open.is_empty():\n",
        "    print(f\"OPEN: \\t{open}\")\n",
        "    print(f\"CLOSED: {closed}\")\n",
        "    nodePair = open.head()\n",
        "    N, _ = nodePair\n",
        "    print(f\"------------\")\n",
        "    if N == G:\n",
        "      return ReconstructPath(nodePair, closed)\n",
        "    else:\n",
        "      closed.add_to_start(nodePair)\n",
        "      neighbours = MoveGen(N)\n",
        "      newNodes = RemoveSeen(neighbours, open, closed)\n",
        "      newPairs = MakePairs(newNodes, N)\n",
        "      open = newPairs + open.tail()\n",
        "  return DoublyLinkedList([])\n",
        "\n",
        "print(DFS(S, G))"
      ],
      "metadata": {
        "colab": {
          "base_uri": "https://localhost:8080/"
        },
        "id": "NpJgiNQJOvWJ",
        "outputId": "d660346b-0229-4f04-a867-5d6bdb24c991"
      },
      "execution_count": 45,
      "outputs": [
        {
          "output_type": "stream",
          "name": "stdout",
          "text": [
            "OPEN: \t[('S', None)]\n",
            "CLOSED: []\n",
            "------------\n",
            "OPEN: \t[('A', 'S'), ('C', 'S')]\n",
            "CLOSED: [('S', None)]\n",
            "------------\n",
            "OPEN: \t[('B', 'A'), ('C', 'S')]\n",
            "CLOSED: [('A', 'S'), ('S', None)]\n",
            "------------\n",
            "OPEN: \t[('D', 'B'), ('E', 'B'), ('C', 'S')]\n",
            "CLOSED: [('B', 'A'), ('A', 'S'), ('S', None)]\n",
            "------------\n",
            "OPEN: \t[('G', 'D'), ('E', 'B'), ('C', 'S')]\n",
            "CLOSED: [('D', 'B'), ('B', 'A'), ('A', 'S'), ('S', None)]\n",
            "------------\n",
            "['S', 'A', 'B', 'D', 'G']\n"
          ]
        }
      ]
    },
    {
      "cell_type": "markdown",
      "source": [
        "# BFS"
      ],
      "metadata": {
        "id": "mjsPdvaW2B0a"
      }
    },
    {
      "cell_type": "code",
      "source": [
        "def BFS(S, G):\n",
        "  open = DoublyLinkedList([(S, None)])\n",
        "  closed = DoublyLinkedList([])\n",
        "  while not open.is_empty():\n",
        "    print(f\"OPEN: \\t{open}\")\n",
        "    print(f\"CLOSED: {closed}\")\n",
        "    nodePair = open.head()\n",
        "    N, _ = nodePair\n",
        "    print(f\"------------\")\n",
        "    if N == G:\n",
        "      return ReconstructPath(nodePair, closed)\n",
        "    else:\n",
        "      closed.add_to_start(nodePair)\n",
        "      neighbours = MoveGen(N)\n",
        "      newNodes = RemoveSeen(neighbours, open, closed)\n",
        "      newPairs = MakePairs(newNodes, N)\n",
        "      open = open.tail() + newPairs\n",
        "  return DoublyLinkedList([])\n",
        "\n",
        "print(BFS(S, G))"
      ],
      "metadata": {
        "colab": {
          "base_uri": "https://localhost:8080/"
        },
        "id": "YVX6veFS2DIp",
        "outputId": "cb86fac0-8b43-4d16-9ecf-88d22ced55be"
      },
      "execution_count": 46,
      "outputs": [
        {
          "output_type": "stream",
          "name": "stdout",
          "text": [
            "OPEN: \t[('S', None)]\n",
            "CLOSED: []\n",
            "------------\n",
            "OPEN: \t[('A', 'S'), ('C', 'S')]\n",
            "CLOSED: [('S', None)]\n",
            "------------\n",
            "OPEN: \t[('C', 'S'), ('B', 'A')]\n",
            "CLOSED: [('A', 'S'), ('S', None)]\n",
            "------------\n",
            "OPEN: \t[('B', 'A'), ('D', 'C')]\n",
            "CLOSED: [('C', 'S'), ('A', 'S'), ('S', None)]\n",
            "------------\n",
            "OPEN: \t[('D', 'C'), ('E', 'B')]\n",
            "CLOSED: [('B', 'A'), ('C', 'S'), ('A', 'S'), ('S', None)]\n",
            "------------\n",
            "OPEN: \t[('E', 'B'), ('G', 'D')]\n",
            "CLOSED: [('D', 'C'), ('B', 'A'), ('C', 'S'), ('A', 'S'), ('S', None)]\n",
            "------------\n",
            "OPEN: \t[('G', 'D')]\n",
            "CLOSED: [('E', 'B'), ('D', 'C'), ('B', 'A'), ('C', 'S'), ('A', 'S'), ('S', None)]\n",
            "------------\n",
            "['S', 'C', 'D', 'G']\n"
          ]
        }
      ]
    },
    {
      "cell_type": "markdown",
      "source": [
        "# DFID-N"
      ],
      "metadata": {
        "id": "HOPEsY263BmB"
      }
    },
    {
      "cell_type": "code",
      "source": [
        "def MakePairs(nodeList, parent, depth):\n",
        "  if nodeList.is_empty():\n",
        "    return DoublyLinkedList([])\n",
        "  else:\n",
        "    return DoublyLinkedList([(nodeList.head(), parent, depth)]) + MakePairs(nodeList.tail(), parent, depth)\n",
        "\n",
        "def RemoveSeen(nodeList, open, closed):\n",
        "  if nodeList.is_empty():\n",
        "    return DoublyLinkedList([])\n",
        "  else:\n",
        "    N = nodeList.head()\n",
        "    if N in open or N in closed:\n",
        "      return RemoveSeen(nodeList.tail(), open, closed)\n",
        "    else:\n",
        "      return DoublyLinkedList([N]) + RemoveSeen(nodeList.tail(), open, closed)\n",
        "\n",
        "def SkipTo(parent, nodePairs, depth):\n",
        "  if parent == nodePairs.head()[0] and depth == nodePairs.head()[2]:\n",
        "    return nodePairs\n",
        "  else:\n",
        "    return SkipTo(parent, nodePairs.tail(), depth)\n",
        "\n",
        "def ReconstructPath(nodePair, closed):\n",
        "  node, parent, depth = nodePair\n",
        "  path = DoublyLinkedList([node])\n",
        "  while parent is not None:\n",
        "    path.add_to_start(parent)\n",
        "    closed = SkipTo(parent, closed, depth - 1)\n",
        "    _, parent, depth = closed.head()\n",
        "  return path"
      ],
      "metadata": {
        "id": "PhX7KXtX6iAG"
      },
      "execution_count": 47,
      "outputs": []
    },
    {
      "cell_type": "code",
      "source": [
        "def DB_DFS_N(S, G, depth_bound):\n",
        "  count = 0\n",
        "  open = DoublyLinkedList([(S, None, 0)])\n",
        "  closed = DoublyLinkedList([])\n",
        "  while not open.is_empty():\n",
        "    print(f\"OPEN: \\t{open}\")\n",
        "    print(f\"CLOSED: {closed}\")\n",
        "    nodePair = open.head()\n",
        "    N, _, depth = nodePair\n",
        "    \n",
        "    if N == G:\n",
        "      return (count, ReconstructPath(nodePair, closed))\n",
        "    else:\n",
        "      print(f\"------------\")\n",
        "      closed.add_to_start(nodePair)\n",
        "\n",
        "      if depth < depth_bound:\n",
        "        neighbours = MoveGen(N)\n",
        "        newNodes = RemoveSeen(neighbours, open, closed)\n",
        "        newPairs = MakePairs(newNodes, N, depth+1)\n",
        "        open = newPairs + open.tail()\n",
        "        count = count + newPairs.length()\n",
        "      else:\n",
        "        open = open.tail()\n",
        "  return (count, DoublyLinkedList([]))\n",
        "\n",
        "def DFID_N(S, G):\n",
        "  count = -1\n",
        "  path = DoublyLinkedList([])\n",
        "  depth_bound = 0\n",
        "\n",
        "  while True:\n",
        "    previous_count = count\n",
        "    print(f\"\\n==========Depth {depth_bound}============\")\n",
        "    count, path = DB_DFS_N(S, G, depth_bound)\n",
        "    depth_bound += 1\n",
        "    if previous_count == count or not path.is_empty():\n",
        "      print(\"\\n=======================\")\n",
        "      break\n",
        "\n",
        "  return path\n",
        "\n",
        "print(DFID_N(S, G))"
      ],
      "metadata": {
        "colab": {
          "base_uri": "https://localhost:8080/"
        },
        "id": "wGeqUMDS3DEy",
        "outputId": "48c5687e-c1d5-43ae-acac-6583232dc0ce"
      },
      "execution_count": 48,
      "outputs": [
        {
          "output_type": "stream",
          "name": "stdout",
          "text": [
            "\n",
            "==========Depth 0============\n",
            "OPEN: \t[('S', None, 0)]\n",
            "CLOSED: []\n",
            "------------\n",
            "\n",
            "==========Depth 1============\n",
            "OPEN: \t[('S', None, 0)]\n",
            "CLOSED: []\n",
            "------------\n",
            "OPEN: \t[('A', 'S', 1), ('C', 'S', 1)]\n",
            "CLOSED: [('S', None, 0)]\n",
            "------------\n",
            "OPEN: \t[('C', 'S', 1)]\n",
            "CLOSED: [('A', 'S', 1), ('S', None, 0)]\n",
            "------------\n",
            "\n",
            "==========Depth 2============\n",
            "OPEN: \t[('S', None, 0)]\n",
            "CLOSED: []\n",
            "------------\n",
            "OPEN: \t[('A', 'S', 1), ('C', 'S', 1)]\n",
            "CLOSED: [('S', None, 0)]\n",
            "------------\n",
            "OPEN: \t[('B', 'A', 2), ('C', 'S', 1)]\n",
            "CLOSED: [('A', 'S', 1), ('S', None, 0)]\n",
            "------------\n",
            "OPEN: \t[('C', 'S', 1)]\n",
            "CLOSED: [('B', 'A', 2), ('A', 'S', 1), ('S', None, 0)]\n",
            "------------\n",
            "OPEN: \t[('D', 'C', 2)]\n",
            "CLOSED: [('C', 'S', 1), ('B', 'A', 2), ('A', 'S', 1), ('S', None, 0)]\n",
            "------------\n",
            "\n",
            "==========Depth 3============\n",
            "OPEN: \t[('S', None, 0)]\n",
            "CLOSED: []\n",
            "------------\n",
            "OPEN: \t[('A', 'S', 1), ('C', 'S', 1)]\n",
            "CLOSED: [('S', None, 0)]\n",
            "------------\n",
            "OPEN: \t[('B', 'A', 2), ('C', 'S', 1)]\n",
            "CLOSED: [('A', 'S', 1), ('S', None, 0)]\n",
            "------------\n",
            "OPEN: \t[('D', 'B', 3), ('E', 'B', 3), ('C', 'S', 1)]\n",
            "CLOSED: [('B', 'A', 2), ('A', 'S', 1), ('S', None, 0)]\n",
            "------------\n",
            "OPEN: \t[('E', 'B', 3), ('C', 'S', 1)]\n",
            "CLOSED: [('D', 'B', 3), ('B', 'A', 2), ('A', 'S', 1), ('S', None, 0)]\n",
            "------------\n",
            "OPEN: \t[('C', 'S', 1)]\n",
            "CLOSED: [('E', 'B', 3), ('D', 'B', 3), ('B', 'A', 2), ('A', 'S', 1), ('S', None, 0)]\n",
            "------------\n",
            "\n",
            "==========Depth 4============\n",
            "OPEN: \t[('S', None, 0)]\n",
            "CLOSED: []\n",
            "------------\n",
            "OPEN: \t[('A', 'S', 1), ('C', 'S', 1)]\n",
            "CLOSED: [('S', None, 0)]\n",
            "------------\n",
            "OPEN: \t[('B', 'A', 2), ('C', 'S', 1)]\n",
            "CLOSED: [('A', 'S', 1), ('S', None, 0)]\n",
            "------------\n",
            "OPEN: \t[('D', 'B', 3), ('E', 'B', 3), ('C', 'S', 1)]\n",
            "CLOSED: [('B', 'A', 2), ('A', 'S', 1), ('S', None, 0)]\n",
            "------------\n",
            "OPEN: \t[('G', 'D', 4), ('E', 'B', 3), ('C', 'S', 1)]\n",
            "CLOSED: [('D', 'B', 3), ('B', 'A', 2), ('A', 'S', 1), ('S', None, 0)]\n",
            "\n",
            "=======================\n",
            "['S', 'A', 'B', 'D', 'G']\n"
          ]
        }
      ]
    },
    {
      "cell_type": "markdown",
      "source": [
        "# DFID-C"
      ],
      "metadata": {
        "id": "LKcxR2DkH1AG"
      }
    },
    {
      "cell_type": "code",
      "source": [
        "def DB_DFS_C(S, G, depth_bound):\n",
        "  count = 0\n",
        "  open = DoublyLinkedList([(S, None, 0)])\n",
        "  closed = DoublyLinkedList([])\n",
        "  while not open.is_empty():\n",
        "    print(f\"OPEN: \\t{open}\")\n",
        "    print(f\"CLOSED: {closed}\")\n",
        "    nodePair = open.head()\n",
        "    N, _, depth = nodePair\n",
        "    \n",
        "    if N == G:\n",
        "      return (count, ReconstructPath(nodePair, closed))\n",
        "    else:\n",
        "      print(f\"------------\")\n",
        "      closed.add_to_start(nodePair)\n",
        "\n",
        "      if depth < depth_bound:\n",
        "        neighbours = MoveGen(N)\n",
        "        newNodes = RemoveSeen(neighbours, open, DoublyLinkedList([]))\n",
        "        newPairs = MakePairs(newNodes, N, depth+1)\n",
        "        open = newPairs + open.tail()\n",
        "        count = count + newPairs.length()\n",
        "      else:\n",
        "        open = open.tail()\n",
        "  return (count, DoublyLinkedList([]))\n",
        "\n",
        "def DFID_C(S, G):\n",
        "  count = -1\n",
        "  path = DoublyLinkedList([])\n",
        "  depth_bound = 0\n",
        "\n",
        "  while True:\n",
        "    previous_count = count\n",
        "    print(f\"==========Depth {depth_bound}============\")\n",
        "    count, path = DB_DFS_C(S, G, depth_bound)\n",
        "    depth_bound += 1\n",
        "    if previous_count == count or not path.is_empty():\n",
        "      print(\"\\n=======================\")\n",
        "      break\n",
        "\n",
        "  return path\n",
        "\n",
        "print(DFID_C(S, G))"
      ],
      "metadata": {
        "id": "pyMsYLQiH4oW",
        "colab": {
          "base_uri": "https://localhost:8080/"
        },
        "outputId": "0b2a46f2-354b-4548-bc13-078a65c8d915"
      },
      "execution_count": 49,
      "outputs": [
        {
          "output_type": "stream",
          "name": "stdout",
          "text": [
            "==========Depth 0============\n",
            "OPEN: \t[('S', None, 0)]\n",
            "CLOSED: []\n",
            "------------\n",
            "==========Depth 1============\n",
            "OPEN: \t[('S', None, 0)]\n",
            "CLOSED: []\n",
            "------------\n",
            "OPEN: \t[('A', 'S', 1), ('C', 'S', 1)]\n",
            "CLOSED: [('S', None, 0)]\n",
            "------------\n",
            "OPEN: \t[('C', 'S', 1)]\n",
            "CLOSED: [('A', 'S', 1), ('S', None, 0)]\n",
            "------------\n",
            "==========Depth 2============\n",
            "OPEN: \t[('S', None, 0)]\n",
            "CLOSED: []\n",
            "------------\n",
            "OPEN: \t[('A', 'S', 1), ('C', 'S', 1)]\n",
            "CLOSED: [('S', None, 0)]\n",
            "------------\n",
            "OPEN: \t[('B', 'A', 2), ('S', 'A', 2), ('C', 'S', 1)]\n",
            "CLOSED: [('A', 'S', 1), ('S', None, 0)]\n",
            "------------\n",
            "OPEN: \t[('S', 'A', 2), ('C', 'S', 1)]\n",
            "CLOSED: [('B', 'A', 2), ('A', 'S', 1), ('S', None, 0)]\n",
            "------------\n",
            "OPEN: \t[('C', 'S', 1)]\n",
            "CLOSED: [('S', 'A', 2), ('B', 'A', 2), ('A', 'S', 1), ('S', None, 0)]\n",
            "------------\n",
            "OPEN: \t[('A', 'C', 2), ('D', 'C', 2), ('S', 'C', 2)]\n",
            "CLOSED: [('C', 'S', 1), ('S', 'A', 2), ('B', 'A', 2), ('A', 'S', 1), ('S', None, 0)]\n",
            "------------\n",
            "OPEN: \t[('D', 'C', 2), ('S', 'C', 2)]\n",
            "CLOSED: [('A', 'C', 2), ('C', 'S', 1), ('S', 'A', 2), ('B', 'A', 2), ('A', 'S', 1), ('S', None, 0)]\n",
            "------------\n",
            "OPEN: \t[('S', 'C', 2)]\n",
            "CLOSED: [('D', 'C', 2), ('A', 'C', 2), ('C', 'S', 1), ('S', 'A', 2), ('B', 'A', 2), ('A', 'S', 1), ('S', None, 0)]\n",
            "------------\n",
            "==========Depth 3============\n",
            "OPEN: \t[('S', None, 0)]\n",
            "CLOSED: []\n",
            "------------\n",
            "OPEN: \t[('A', 'S', 1), ('C', 'S', 1)]\n",
            "CLOSED: [('S', None, 0)]\n",
            "------------\n",
            "OPEN: \t[('B', 'A', 2), ('S', 'A', 2), ('C', 'S', 1)]\n",
            "CLOSED: [('A', 'S', 1), ('S', None, 0)]\n",
            "------------\n",
            "OPEN: \t[('A', 'B', 3), ('D', 'B', 3), ('E', 'B', 3), ('S', 'A', 2), ('C', 'S', 1)]\n",
            "CLOSED: [('B', 'A', 2), ('A', 'S', 1), ('S', None, 0)]\n",
            "------------\n",
            "OPEN: \t[('D', 'B', 3), ('E', 'B', 3), ('S', 'A', 2), ('C', 'S', 1)]\n",
            "CLOSED: [('A', 'B', 3), ('B', 'A', 2), ('A', 'S', 1), ('S', None, 0)]\n",
            "------------\n",
            "OPEN: \t[('E', 'B', 3), ('S', 'A', 2), ('C', 'S', 1)]\n",
            "CLOSED: [('D', 'B', 3), ('A', 'B', 3), ('B', 'A', 2), ('A', 'S', 1), ('S', None, 0)]\n",
            "------------\n",
            "OPEN: \t[('S', 'A', 2), ('C', 'S', 1)]\n",
            "CLOSED: [('E', 'B', 3), ('D', 'B', 3), ('A', 'B', 3), ('B', 'A', 2), ('A', 'S', 1), ('S', None, 0)]\n",
            "------------\n",
            "OPEN: \t[('A', 'S', 3), ('C', 'S', 1)]\n",
            "CLOSED: [('S', 'A', 2), ('E', 'B', 3), ('D', 'B', 3), ('A', 'B', 3), ('B', 'A', 2), ('A', 'S', 1), ('S', None, 0)]\n",
            "------------\n",
            "OPEN: \t[('C', 'S', 1)]\n",
            "CLOSED: [('A', 'S', 3), ('S', 'A', 2), ('E', 'B', 3), ('D', 'B', 3), ('A', 'B', 3), ('B', 'A', 2), ('A', 'S', 1), ('S', None, 0)]\n",
            "------------\n",
            "OPEN: \t[('A', 'C', 2), ('D', 'C', 2), ('S', 'C', 2)]\n",
            "CLOSED: [('C', 'S', 1), ('A', 'S', 3), ('S', 'A', 2), ('E', 'B', 3), ('D', 'B', 3), ('A', 'B', 3), ('B', 'A', 2), ('A', 'S', 1), ('S', None, 0)]\n",
            "------------\n",
            "OPEN: \t[('B', 'A', 3), ('C', 'A', 3), ('D', 'C', 2), ('S', 'C', 2)]\n",
            "CLOSED: [('A', 'C', 2), ('C', 'S', 1), ('A', 'S', 3), ('S', 'A', 2), ('E', 'B', 3), ('D', 'B', 3), ('A', 'B', 3), ('B', 'A', 2), ('A', 'S', 1), ('S', None, 0)]\n",
            "------------\n",
            "OPEN: \t[('C', 'A', 3), ('D', 'C', 2), ('S', 'C', 2)]\n",
            "CLOSED: [('B', 'A', 3), ('A', 'C', 2), ('C', 'S', 1), ('A', 'S', 3), ('S', 'A', 2), ('E', 'B', 3), ('D', 'B', 3), ('A', 'B', 3), ('B', 'A', 2), ('A', 'S', 1), ('S', None, 0)]\n",
            "------------\n",
            "OPEN: \t[('D', 'C', 2), ('S', 'C', 2)]\n",
            "CLOSED: [('C', 'A', 3), ('B', 'A', 3), ('A', 'C', 2), ('C', 'S', 1), ('A', 'S', 3), ('S', 'A', 2), ('E', 'B', 3), ('D', 'B', 3), ('A', 'B', 3), ('B', 'A', 2), ('A', 'S', 1), ('S', None, 0)]\n",
            "------------\n",
            "OPEN: \t[('B', 'D', 3), ('C', 'D', 3), ('E', 'D', 3), ('G', 'D', 3), ('S', 'C', 2)]\n",
            "CLOSED: [('D', 'C', 2), ('C', 'A', 3), ('B', 'A', 3), ('A', 'C', 2), ('C', 'S', 1), ('A', 'S', 3), ('S', 'A', 2), ('E', 'B', 3), ('D', 'B', 3), ('A', 'B', 3), ('B', 'A', 2), ('A', 'S', 1), ('S', None, 0)]\n",
            "------------\n",
            "OPEN: \t[('C', 'D', 3), ('E', 'D', 3), ('G', 'D', 3), ('S', 'C', 2)]\n",
            "CLOSED: [('B', 'D', 3), ('D', 'C', 2), ('C', 'A', 3), ('B', 'A', 3), ('A', 'C', 2), ('C', 'S', 1), ('A', 'S', 3), ('S', 'A', 2), ('E', 'B', 3), ('D', 'B', 3), ('A', 'B', 3), ('B', 'A', 2), ('A', 'S', 1), ('S', None, 0)]\n",
            "------------\n",
            "OPEN: \t[('E', 'D', 3), ('G', 'D', 3), ('S', 'C', 2)]\n",
            "CLOSED: [('C', 'D', 3), ('B', 'D', 3), ('D', 'C', 2), ('C', 'A', 3), ('B', 'A', 3), ('A', 'C', 2), ('C', 'S', 1), ('A', 'S', 3), ('S', 'A', 2), ('E', 'B', 3), ('D', 'B', 3), ('A', 'B', 3), ('B', 'A', 2), ('A', 'S', 1), ('S', None, 0)]\n",
            "------------\n",
            "OPEN: \t[('G', 'D', 3), ('S', 'C', 2)]\n",
            "CLOSED: [('E', 'D', 3), ('C', 'D', 3), ('B', 'D', 3), ('D', 'C', 2), ('C', 'A', 3), ('B', 'A', 3), ('A', 'C', 2), ('C', 'S', 1), ('A', 'S', 3), ('S', 'A', 2), ('E', 'B', 3), ('D', 'B', 3), ('A', 'B', 3), ('B', 'A', 2), ('A', 'S', 1), ('S', None, 0)]\n",
            "\n",
            "=======================\n",
            "['S', 'C', 'D', 'G']\n"
          ]
        }
      ]
    }
  ]
}