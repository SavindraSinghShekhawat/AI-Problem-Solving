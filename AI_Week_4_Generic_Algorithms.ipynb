{
  "nbformat": 4,
  "nbformat_minor": 0,
  "metadata": {
    "colab": {
      "provenance": []
    },
    "kernelspec": {
      "name": "python3",
      "display_name": "Python 3"
    },
    "language_info": {
      "name": "python"
    }
  },
  "cells": [
    {
      "cell_type": "code",
      "execution_count": 1,
      "metadata": {
        "colab": {
          "base_uri": "https://localhost:8080/"
        },
        "id": "4rIrXy5lvr6E",
        "outputId": "f06ea124-0de7-488d-a06f-8142d51de7b8"
      },
      "outputs": [
        {
          "output_type": "stream",
          "name": "stdout",
          "text": [
            "['A', 'B', 'C', 'D', 'E', 'F', 'G', 'H', 'I', 'J', 'K', 'L', 'M', 'N', 'O']\n"
          ]
        }
      ],
      "source": [
        "import string\n",
        "\n",
        "l = list(string.ascii_uppercase[:15])\n",
        "print(l)"
      ]
    },
    {
      "cell_type": "code",
      "source": [
        "def print_good(input):\n",
        "  for i in range(len(input)):\n",
        "    if i != len(input) - 1:\n",
        "      print(input[i], end=\",\")\n",
        "  print(input[-1])\n",
        "\n",
        "def ordinal_representation(input_list):\n",
        "\n",
        "  if \",\" in input_list:\n",
        "    input_list = input_list.replace(\" \", \"\")\n",
        "    input_list = input_list.split(\",\")\n",
        "  check_list = l.copy()\n",
        "  res = []\n",
        "  for i in input_list:\n",
        "    index = check_list.index(i) + 1\n",
        "    res.append(index)\n",
        "    check_list.remove(i)\n",
        "  print_good(res)"
      ],
      "metadata": {
        "id": "RjdrsVaxw0qZ"
      },
      "execution_count": 2,
      "outputs": []
    },
    {
      "cell_type": "code",
      "source": [
        "ordinal_representation(\"F, L, A, M, E, B, I, N, G, O, J, K, H, C, D\")\n",
        "ordinal_representation(\"B, N, O, I, M, J, A, L, K, E, H, C, F, D, G\")"
      ],
      "metadata": {
        "colab": {
          "base_uri": "https://localhost:8080/"
        },
        "id": "p-qLyp3x1ERU",
        "outputId": "3ed23d25-649a-48d1-fd0a-f5d42e2d86cd"
      },
      "execution_count": 3,
      "outputs": [
        {
          "output_type": "stream",
          "name": "stdout",
          "text": [
            "6,11,1,10,4,1,5,7,3,6,4,4,3,1,1\n",
            "2,13,13,8,11,8,1,8,7,3,5,1,2,1,1\n"
          ]
        }
      ]
    },
    {
      "cell_type": "code",
      "source": [
        "l = list(string.ascii_uppercase[:12])\n",
        "print(l)"
      ],
      "metadata": {
        "colab": {
          "base_uri": "https://localhost:8080/"
        },
        "id": "4jjgNNDN9G2h",
        "outputId": "2c097567-65b7-4225-82fd-b9cbc4cbe5d6"
      },
      "execution_count": 4,
      "outputs": [
        {
          "output_type": "stream",
          "name": "stdout",
          "text": [
            "['A', 'B', 'C', 'D', 'E', 'F', 'G', 'H', 'I', 'J', 'K', 'L']\n"
          ]
        }
      ]
    },
    {
      "cell_type": "code",
      "source": [
        "ordinal_representation(\"H,I,D,E,L,G,J,F,B,A,C,K\")\n",
        "ordinal_representation(\"A,B,F,J,G,L,E,D,I,H,K,C\")"
      ],
      "metadata": {
        "colab": {
          "base_uri": "https://localhost:8080/"
        },
        "id": "PGX2GAag9K--",
        "outputId": "a592b8c0-37aa-4abc-d426-6c2d2428eaf3"
      },
      "execution_count": 5,
      "outputs": [
        {
          "output_type": "stream",
          "name": "stdout",
          "text": [
            "8,8,4,4,8,5,5,4,2,1,1,1\n",
            "1,1,4,7,4,7,3,2,3,2,2,1\n"
          ]
        }
      ]
    },
    {
      "cell_type": "code",
      "source": [
        "ordinal_representation(\"H,I,D,E,L,G,J,F,B,A,C,K\")\n",
        "ordinal_representation(\"L,E,H,B,J,K,D,I,F,G,A,C\")"
      ],
      "metadata": {
        "colab": {
          "base_uri": "https://localhost:8080/"
        },
        "id": "qNf1xFEQ9Z1Q",
        "outputId": "85cb20f2-1c36-4a6e-967c-8a4ce71f6e01"
      },
      "execution_count": 6,
      "outputs": [
        {
          "output_type": "stream",
          "name": "stdout",
          "text": [
            "8,8,4,4,8,5,5,4,2,1,1,1\n",
            "12,5,7,2,7,7,3,5,3,3,1,1\n"
          ]
        }
      ]
    }
  ]
}